{
  "cells": [
    {
      "cell_type": "markdown",
      "metadata": {
        "id": "ViXzmmMF4T9_"
      },
      "source": [
        "## Set 5\n",
        "## 3. Word2Vec \\*\\*Principles**"
      ]
    },
    {
      "cell_type": "markdown",
      "metadata": {
        "id": "HXT_eNcB93ue"
      },
      "source": [
        "#### Preparation"
      ]
    },
    {
      "cell_type": "code",
      "execution_count": 1,
      "metadata": {
        "id": "2wZbd6FeH7cY"
      },
      "outputs": [],
      "source": [
        "import requests\n",
        "url_dict = {\n",
        "    'dr_seuss.txt': 'https://caltech-cs155.s3.us-east-2.amazonaws.com/sets/set5/data/dr_seuss.txt',\n",
        "    'P3CHelpers.py': 'https://caltech-cs155.s3.us-east-2.amazonaws.com/sets/set5/code/P3CHelpers.py'\n",
        "}\n",
        "def download_file(file_path):\n",
        "    url = url_dict[file_path]\n",
        "    print('Start downloading...')\n",
        "    with requests.get(url, stream=True) as r:\n",
        "        r.raise_for_status()\n",
        "        with open(file_path, 'wb') as f:\n",
        "            for chunk in r.iter_content(chunk_size=1024 * 1024 * 1024):\n",
        "                f.write(chunk)\n",
        "    print('Complete')"
      ]
    },
    {
      "cell_type": "code",
      "execution_count": 2,
      "metadata": {
        "colab": {
          "base_uri": "https://localhost:8080/"
        },
        "id": "LmmdYcVUH9D8",
        "outputId": "50eca133-13a8-46e6-b282-ced062c1d3a6"
      },
      "outputs": [
        {
          "output_type": "stream",
          "name": "stdout",
          "text": [
            "Start downloading...\n",
            "Complete\n",
            "Start downloading...\n",
            "Complete\n"
          ]
        }
      ],
      "source": [
        "# Download files\n",
        "download_file('dr_seuss.txt')\n",
        "download_file('P3CHelpers.py')"
      ]
    },
    {
      "cell_type": "code",
      "execution_count": 3,
      "metadata": {
        "id": "Groxh_Rz4QLB"
      },
      "outputs": [],
      "source": [
        "import numpy as np\n",
        "from P3CHelpers import *\n",
        "import torch\n",
        "import torch.nn as nn\n",
        "import torch.optim as optim"
      ]
    },
    {
      "cell_type": "code",
      "execution_count": 4,
      "metadata": {
        "id": "hB8wZp6y0EWT"
      },
      "outputs": [],
      "source": [
        "import numpy as np\n",
        "\n",
        "##########################\n",
        "# Helper functions/classes\n",
        "##########################\n",
        "\n",
        "class WordPair:\n",
        "    \"\"\"\n",
        "    Class representing a pair of words in our vocabulary, along with the cosine similarity\n",
        "    of the two words.\n",
        "    \"\"\"\n",
        "    def __init__(self, firstWord, secondWord, similarity):\n",
        "        \"\"\"\n",
        "        Initializes the WordPair given two words (strings) and their similarity (float).\n",
        "        \"\"\"\n",
        "        # Ensure that our pair consists of two distinct words\n",
        "        assert(firstWord != secondWord)\n",
        "        self.firstWord = firstWord\n",
        "        self.secondWord = secondWord\n",
        "        self.similarity = similarity\n",
        "\n",
        "    def __repr__(self):\n",
        "        \"\"\"\n",
        "        Define the string representation of a WordPair so that a WordPair instance x\n",
        "        can be displayed using print(x).\n",
        "        \"\"\"\n",
        "        return \"Pair(%s, %s), Similarity: %s\"%(self.firstWord, self.secondWord, self.similarity)\n",
        "\n",
        "\n",
        "def sort_by_similarity(word_pairs):\n",
        "    \"\"\"\n",
        "    Given a list of word pair instances, returns a list of the instances sorted\n",
        "    in decreasing order of similarity.\n",
        "    \"\"\"\n",
        "    return sorted(word_pairs, key=lambda pair: pair.similarity, reverse=True)\n",
        "\n",
        "def get_similarity(v1, v2):\n",
        "    \"\"\" Returns the cosine of the angle between vectors v1 and v2. \"\"\"\n",
        "    v1_unit = v1 / np.linalg.norm(v1)\n",
        "    v2_unit = v2 / np.linalg.norm(v2)\n",
        "    return np.dot(v1_unit, v2_unit)\n",
        "\n",
        "\n",
        "def load_word_list(path):\n",
        "    \"\"\"\n",
        "    Loads a list of the words from the file at path <path>, removing all\n",
        "    non-alpha-numeric characters from the file.\n",
        "    \"\"\"\n",
        "    with open(path) as handle:\n",
        "        # Load a list of whitespace-delimited words from the specified file\n",
        "        raw_text = handle.read().strip().split()\n",
        "        # Strip non-alphanumeric characters from each word\n",
        "        alphanumeric_words = map(lambda word: ''.join(char for char in word if char.isalnum()), raw_text)\n",
        "        # Filter out words that are now empty (e.g. strings that only contained non-alphanumeric chars)\n",
        "        alphanumeric_words = filter(lambda word: len(word) > 0, alphanumeric_words)\n",
        "        # Convert each word to lowercase and return the result\n",
        "        return list(map(lambda word: word.lower(), alphanumeric_words))\n",
        "\n",
        "def generate_onehot_dict(word_list):\n",
        "    \"\"\"\n",
        "    Takes a list of the words in a text file, returning a dictionary mapping\n",
        "    words to their index in a one-hot-encoded representation of the words.\n",
        "    \"\"\"\n",
        "    word_to_index = {}\n",
        "    i = 0\n",
        "    for word in word_list:\n",
        "        if word not in word_to_index:\n",
        "            word_to_index[word] = i\n",
        "            i += 1\n",
        "    return word_to_index\n",
        "\n",
        "def most_similar_pairs(weight_matrix, word_to_index):\n",
        "    \"\"\"\n",
        "    For each word a in our vocabulary, computes the most similar word b to a, along with the\n",
        "    cosine similarity of a and b.\n",
        "\n",
        "    Arguments:\n",
        "        weight_matrix: The matrix of weights extracted from the hidden layer of a fitted\n",
        "                       neural network.\n",
        "\n",
        "        word_to_index: Dictionary mapping words to their corresponding index\n",
        "                       in a one-hot-encoded representation of our corpus.\n",
        "\n",
        "    Returns:\n",
        "        A list of WordPair instances sorted in decreasing order of similarity,\n",
        "        one representing each word <vocab_word> and its most similar word.\n",
        "    \"\"\"\n",
        "    word_to_feature_repr = get_word_to_feature_repr(weight_matrix, word_to_index)\n",
        "    result = []\n",
        "    for word in word_to_feature_repr:\n",
        "        result.append(most_similar_word(word_to_feature_repr, word))\n",
        "    return sort_by_similarity(result)\n",
        "\n",
        "def most_similar_word(word_to_feature_repr, input_word):\n",
        "    \"\"\"\n",
        "    Given a dictionary mapping words to their feature representations (word_to_feature_repr),\n",
        "    returns the a WordPair instance corresponding to the word\n",
        "    whose feature vector is most similar to the feature representation of the\n",
        "    passed-in word (input_word).\n",
        "    \"\"\"\n",
        "    best_word = None\n",
        "    best_similarity = 0\n",
        "    input_vec = word_to_feature_repr[input_word]\n",
        "    for word, feature_vec in word_to_feature_repr.items():\n",
        "        similarity = get_similarity(input_vec, feature_vec)\n",
        "        if similarity > best_similarity and np.linalg.norm(feature_vec - input_vec) != 0:\n",
        "            best_similarity = similarity\n",
        "            best_word = word\n",
        "    return WordPair(input_word, best_word, best_similarity)\n",
        "\n",
        "def get_word_to_feature_repr(weight_matrix, word_to_index):\n",
        "    \"\"\"\n",
        "    Returns a dictionary mapping each word in our vocabulary to its one-hot-encoded\n",
        "    feature representation.\n",
        "\n",
        "    Arguments:\n",
        "        weight_matrix: The matrix of weights extracted from the hidden layer of a fitted\n",
        "                       neural network.\n",
        "\n",
        "        word_to_index: Dictionary mapping words to their corresponding index\n",
        "                       in a one-hot-encoded representation of our corpus.\n",
        "    \"\"\"\n",
        "    assert(weight_matrix is not None)\n",
        "    word_to_feature_repr = {}\n",
        "    for word, one_hot_idx in word_to_index.items():\n",
        "        word_to_feature_repr[word] = weight_matrix[one_hot_idx]\n",
        "    return word_to_feature_repr"
      ]
    },
    {
      "cell_type": "markdown",
      "metadata": {
        "id": "h9aBEkZD5wb2"
      },
      "source": [
        "#### Problem D:\n",
        "Fill in the generate_traindata and find_most_similar_pairs functions."
      ]
    },
    {
      "cell_type": "code",
      "execution_count": 5,
      "metadata": {
        "id": "UChXkrvs7OF0"
      },
      "outputs": [],
      "source": [
        "def get_word_repr(word_to_index, word):\n",
        "    \"\"\"\n",
        "    Returns one-hot-encoded feature representation of the specified word given\n",
        "    a dictionary mapping words to their one-hot-encoded index.\n",
        "\n",
        "    Arguments:\n",
        "        word_to_index: Dictionary mapping words to their corresponding index\n",
        "                       in a one-hot-encoded representation of our corpus.\n",
        "\n",
        "        word:          Word whose feature representation we wish to compute.\n",
        "\n",
        "    Returns:\n",
        "        feature_representation:     Feature representation of the passed-in word.\n",
        "    \"\"\"\n",
        "    unique_words = word_to_index.keys()\n",
        "    # Return a vector that's zero everywhere besides the index corresponding to <word>\n",
        "    feature_representation = np.zeros(len(unique_words))\n",
        "    feature_representation[word_to_index[word]] = 1\n",
        "    return feature_representation\n",
        "\n",
        "def generate_traindata(word_list, word_to_index, window_size=4):\n",
        "    \"\"\"\n",
        "    Generates training data for Skipgram model.\n",
        "\n",
        "    Arguments:\n",
        "        word_list:     Sequential list of words (strings).\n",
        "        word_to_index: Dictionary mapping words to their corresponding index\n",
        "                       in a one-hot-encoded representation of our corpus.\n",
        "\n",
        "        window_size:   Size of Skipgram window. Defaults to 2\n",
        "                       (use the default value when running your code).\n",
        "\n",
        "    Returns:\n",
        "        (trainX, trainY):     A pair of matrices (trainX, trainY) containing training\n",
        "                              points (one-hot-encoded vectors) and their corresponding output_word\n",
        "                              (also one-hot-encoded vectors)\n",
        "\n",
        "    \"\"\"\n",
        "    trainX = []\n",
        "    trainY = []\n",
        "    for word in word_list:\n",
        "      idx = word_to_index[word]\n",
        "      for i in range(max(0, idx - window_size), min(idx + window_size + 1, len(word_to_index))):\n",
        "        if i != idx:\n",
        "          trainX.append(get_word_repr(word_to_index, word))\n",
        "          trainY.append(get_word_repr(word_to_index, word_list[i]))\n",
        "    return np.array(trainX), np.array(trainY)"
      ]
    },
    {
      "cell_type": "code",
      "execution_count": 6,
      "metadata": {
        "id": "OoaUtBqd7V-A"
      },
      "outputs": [],
      "source": [
        "def find_most_similar_pairs(filename, num_latent_factors):\n",
        "    \"\"\"\n",
        "    Find the most similar pairs from the word embeddings computed from\n",
        "    a body of text\n",
        "\n",
        "    Arguments:\n",
        "        filename:           Text file to read and train embeddings from\n",
        "        num_latent_factors: The number of latent factors / the size of the embedding\n",
        "    \"\"\"\n",
        "    # Load in a list of words from the specified file; remove non-alphanumeric characters\n",
        "    # and make all chars lowercase.\n",
        "    sample_text = load_word_list(filename)\n",
        "\n",
        "    # Create word dictionary\n",
        "    word_to_index = generate_onehot_dict(sample_text)\n",
        "    print(\"Textfile contains %s unique words\"%len(word_to_index))\n",
        "    # Create training data\n",
        "    trainX, trainY = generate_traindata(sample_text, word_to_index)\n",
        "\n",
        "    # vocab_size = number of unique words in our text file. Will be useful\n",
        "    # when adding layers to your neural network\n",
        "    vocab_size = len(word_to_index)\n",
        "    model = nn.Sequential(\n",
        "        nn.Linear(vocab_size, num_latent_factors, bias=False),\n",
        "        nn.Linear(num_latent_factors, vocab_size, bias=False),\n",
        "    )\n",
        "    loss_function = nn.CrossEntropyLoss()\n",
        "    optimizer = optim.SGD(model.parameters(), lr=0.01)\n",
        "    trainX = torch.tensor(trainX, dtype=torch.float32)\n",
        "    trainY = torch.tensor(trainY, dtype=torch.float32)\n",
        "\n",
        "    num_epochs = 10\n",
        "    for epoch in range(num_epochs):\n",
        "      total_loss = 0.0\n",
        "      logits = model(trainX)\n",
        "      loss = loss_function(logits, trainY)\n",
        "      optimizer.zero_grad()\n",
        "      loss.backward()\n",
        "      optimizer.step()\n",
        "      total_loss += loss.item()\n",
        "\n",
        "      print(f\"Epoch [{epoch + 1}/{num_epochs}], Loss: {total_loss:.4f}\")\n",
        "\n",
        "    # set weights variable below\n",
        "    weights = model[0].weight.data.T\n",
        "    print(\"hidden layer shape: \", model[0].weight.shape)\n",
        "    print(\"output layer shape: \", model[1].weight.shape)\n",
        "    # Find and print most similar pairs\n",
        "    similar_pairs = most_similar_pairs(weights, word_to_index)\n",
        "    for pair in similar_pairs[:30]:\n",
        "        print(pair)"
      ]
    },
    {
      "cell_type": "markdown",
      "metadata": {
        "id": "xFBMhtCJ8LyA"
      },
      "source": [
        "### Problem E-H:\n",
        "Run your model on drseuss.txt and answer questions from E through H."
      ]
    },
    {
      "cell_type": "code",
      "execution_count": 7,
      "metadata": {
        "colab": {
          "base_uri": "https://localhost:8080/"
        },
        "id": "bR7ZicNJ6tyN",
        "outputId": "9bb4b4e9-aa93-4cbb-dd8d-d5ad43467593"
      },
      "outputs": [
        {
          "output_type": "stream",
          "name": "stdout",
          "text": [
            "Textfile contains 308 unique words\n",
            "Epoch [1/10], Loss: 5.7302\n",
            "Epoch [2/10], Loss: 5.7302\n",
            "Epoch [3/10], Loss: 5.7302\n",
            "Epoch [4/10], Loss: 5.7302\n",
            "Epoch [5/10], Loss: 5.7302\n",
            "Epoch [6/10], Loss: 5.7302\n",
            "Epoch [7/10], Loss: 5.7302\n",
            "Epoch [8/10], Loss: 5.7302\n",
            "Epoch [9/10], Loss: 5.7302\n",
            "Epoch [10/10], Loss: 5.7302\n",
            "hidden layer shape:  torch.Size([10, 308])\n",
            "output layer shape:  torch.Size([308, 10])\n",
            "Pair(teeth, big), Similarity: 0.96105033\n",
            "Pair(big, teeth), Similarity: 0.96105033\n",
            "Pair(please, book), Similarity: 0.9367386\n",
            "Pair(book, please), Similarity: 0.9367386\n",
            "Pair(fingers, let), Similarity: 0.9252065\n",
            "Pair(let, fingers), Similarity: 0.9252065\n",
            "Pair(long, hills), Similarity: 0.92154247\n",
            "Pair(hills, long), Similarity: 0.92154247\n",
            "Pair(glad, at), Similarity: 0.91546226\n",
            "Pair(at, glad), Similarity: 0.91546226\n",
            "Pair(out, joe), Similarity: 0.9017944\n",
            "Pair(joe, out), Similarity: 0.9017944\n",
            "Pair(here, daniel), Similarity: 0.8991302\n",
            "Pair(daniel, here), Similarity: 0.8991302\n",
            "Pair(another, upon), Similarity: 0.8956753\n",
            "Pair(upon, another), Similarity: 0.8956753\n",
            "Pair(there, shoe), Similarity: 0.89197457\n",
            "Pair(shoe, there), Similarity: 0.89197457\n",
            "Pair(new, train), Similarity: 0.8911907\n",
            "Pair(train, new), Similarity: 0.8911907\n",
            "Pair(then, help), Similarity: 0.8898228\n",
            "Pair(help, then), Similarity: 0.8898228\n",
            "Pair(is, likes), Similarity: 0.88616365\n",
            "Pair(likes, is), Similarity: 0.88616365\n",
            "Pair(so, dog), Similarity: 0.88354504\n",
            "Pair(dog, so), Similarity: 0.88354504\n",
            "Pair(ever, right), Similarity: 0.8831229\n",
            "Pair(right, ever), Similarity: 0.8831229\n",
            "Pair(ten, their), Similarity: 0.8830285\n",
            "Pair(their, ten), Similarity: 0.8830285\n"
          ]
        }
      ],
      "source": [
        "find_most_similar_pairs('dr_seuss.txt', 10)"
      ]
    },
    {
      "cell_type": "code",
      "execution_count": 7,
      "metadata": {
        "id": "1OypGn399owV"
      },
      "outputs": [],
      "source": []
    }
  ],
  "metadata": {
    "colab": {
      "collapsed_sections": [
        "h9aBEkZD5wb2"
      ],
      "provenance": []
    },
    "kernelspec": {
      "display_name": "Python 3",
      "name": "python3"
    },
    "language_info": {
      "name": "python"
    }
  },
  "nbformat": 4,
  "nbformat_minor": 0
}