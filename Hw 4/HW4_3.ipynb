{
  "cells": [
    {
      "cell_type": "markdown",
      "metadata": {
        "id": "o4pL5h0fTWwK"
      },
      "source": [
        "# Problem 3"
      ]
    },
    {
      "cell_type": "markdown",
      "metadata": {
        "id": "SZWJm-pqTWwM"
      },
      "source": [
        "Use this notebook to write your code for problem 3."
      ]
    },
    {
      "cell_type": "code",
      "execution_count": 1,
      "metadata": {
        "id": "HJqYqKB5TWwM"
      },
      "outputs": [],
      "source": [
        "import numpy as np\n",
        "import matplotlib.pyplot as plt\n",
        "%matplotlib inline"
      ]
    },
    {
      "cell_type": "markdown",
      "metadata": {
        "id": "5Lq6K1-MTWwN"
      },
      "source": [
        "## 3D - Convolutional network"
      ]
    },
    {
      "cell_type": "markdown",
      "metadata": {
        "id": "87EXXMYjTWwN"
      },
      "source": [
        "As in problem 2, we have conveniently provided for your use code that loads and preprocesses the MNIST data."
      ]
    },
    {
      "cell_type": "code",
      "execution_count": 4,
      "metadata": {
        "id": "EqNqPvyxTWwN"
      },
      "outputs": [],
      "source": [
        "# load MNIST data into PyTorch format\n",
        "import torch\n",
        "import torchvision\n",
        "import torchvision.transforms as transforms\n",
        "import torch.nn as nn\n",
        "import torch.optim as optim\n",
        "\n",
        "# set batch size\n",
        "batch_size = 32\n",
        "\n",
        "# load training data downloaded into data/ folder\n",
        "mnist_training_data = torchvision.datasets.MNIST('data/', train=True, download=True,\n",
        "                                                transform=transforms.ToTensor())\n",
        "# transforms.ToTensor() converts batch of images to 4-D tensor and normalizes 0-255 to 0-1.0\n",
        "training_data_loader = torch.utils.data.DataLoader(mnist_training_data,\n",
        "                                                  batch_size=batch_size,\n",
        "                                                  shuffle=True)\n",
        "\n",
        "# load test data\n",
        "mnist_test_data = torchvision.datasets.MNIST('data/', train=False, download=True,\n",
        "                                                transform=transforms.ToTensor())\n",
        "test_data_loader = torch.utils.data.DataLoader(mnist_test_data,\n",
        "                                                  batch_size=batch_size,\n",
        "                                                  shuffle=False)"
      ]
    },
    {
      "cell_type": "code",
      "execution_count": 3,
      "metadata": {
        "colab": {
          "base_uri": "https://localhost:8080/"
        },
        "id": "fvXtRUYFTWwO",
        "outputId": "a0eaed68-850e-4cbf-a0a5-06bdc022a4cd"
      },
      "outputs": [
        {
          "output_type": "stream",
          "name": "stdout",
          "text": [
            "1875 training batches\n",
            "60000 training samples\n",
            "313 validation batches\n"
          ]
        }
      ],
      "source": [
        "# look at the number of batches per epoch for training and validation\n",
        "print(f'{len(training_data_loader)} training batches')\n",
        "print(f'{len(training_data_loader) * batch_size} training samples')\n",
        "print(f'{len(test_data_loader)} validation batches')"
      ]
    },
    {
      "cell_type": "code",
      "execution_count": 4,
      "metadata": {
        "id": "Ye8IrX04TWwO"
      },
      "outputs": [],
      "source": [
        "# sample model\n",
        "\n",
        "model = nn.Sequential(\n",
        "    nn.Conv2d(1, 8, kernel_size=(3,3)),\n",
        "    nn.ReLU(),\n",
        "    nn.MaxPool2d(2),\n",
        "    nn.Dropout(p=0.5),\n",
        "\n",
        "    nn.Conv2d(8, 8, kernel_size=(3,3)),\n",
        "    nn.ReLU(),\n",
        "    nn.MaxPool2d(2),\n",
        "    nn.Dropout(p=0.5),\n",
        "\n",
        "    nn.Flatten(),\n",
        "    nn.Linear(25*8, 64),\n",
        "    nn.ReLU(),\n",
        "    nn.Linear(64, 10)\n",
        "    # PyTorch implementation of cross-entropy loss includes softmax layer\n",
        ")"
      ]
    },
    {
      "cell_type": "code",
      "execution_count": 5,
      "metadata": {
        "colab": {
          "base_uri": "https://localhost:8080/"
        },
        "id": "C9C9ENPyTWwP",
        "outputId": "eb671eb0-59f5-433c-bd45-b7bfce6862a5"
      },
      "outputs": [
        {
          "output_type": "stream",
          "name": "stdout",
          "text": [
            "torch.Size([8, 1, 3, 3])\n",
            "torch.Size([8])\n",
            "torch.Size([8, 8, 3, 3])\n",
            "torch.Size([8])\n",
            "torch.Size([64, 200])\n",
            "torch.Size([64])\n",
            "torch.Size([10, 64])\n",
            "torch.Size([10])\n"
          ]
        }
      ],
      "source": [
        "# why don't we take a look at the shape of the weights for each layer\n",
        "for p in model.parameters():\n",
        "    print(p.data.shape)"
      ]
    },
    {
      "cell_type": "code",
      "execution_count": 6,
      "metadata": {
        "colab": {
          "base_uri": "https://localhost:8080/"
        },
        "id": "9BDI0s7bTWwP",
        "outputId": "d1be94ec-ff09-4db7-fb76-0ad984b1f50b"
      },
      "outputs": [
        {
          "output_type": "stream",
          "name": "stdout",
          "text": [
            "total params: 14178\n"
          ]
        }
      ],
      "source": [
        "# our model has some # of parameters:\n",
        "count = 0\n",
        "for p in model.parameters():\n",
        "    n_params = np.prod(list(p.data.shape)).item()\n",
        "    count += n_params\n",
        "print(f'total params: {count}')"
      ]
    },
    {
      "cell_type": "code",
      "execution_count": 7,
      "metadata": {
        "id": "Q36VqyujTWwP"
      },
      "outputs": [],
      "source": [
        "# For a multi-class classification problem\n",
        "\n",
        "criterion = nn.CrossEntropyLoss()\n",
        "optimizer = optim.RMSprop(model.parameters())"
      ]
    },
    {
      "cell_type": "code",
      "execution_count": 8,
      "metadata": {
        "colab": {
          "base_uri": "https://localhost:8080/"
        },
        "id": "aouirMthTWwP",
        "outputId": "b6fbcc88-f64f-454f-b696-9b92cfb84ca0"
      },
      "outputs": [
        {
          "output_type": "stream",
          "name": "stdout",
          "text": [
            "Epoch 1/10:...........\n",
            "\tloss: 0.7919, acc: 0.7353, val loss: 0.2200, val acc: 0.9359\n",
            "Epoch 2/10:...........\n",
            "\tloss: 0.4792, acc: 0.8476, val loss: 0.1909, val acc: 0.9469\n",
            "Epoch 3/10:...........\n",
            "\tloss: 0.4545, acc: 0.8557, val loss: 0.2054, val acc: 0.9410\n",
            "Epoch 4/10:...........\n",
            "\tloss: 0.4419, acc: 0.8606, val loss: 0.2262, val acc: 0.9375\n",
            "Epoch 5/10:...........\n",
            "\tloss: 0.4360, acc: 0.8644, val loss: 0.3864, val acc: 0.8808\n",
            "Epoch 6/10:...........\n",
            "\tloss: 0.4430, acc: 0.8640, val loss: 0.2000, val acc: 0.9429\n",
            "Epoch 7/10:...........\n",
            "\tloss: 0.4365, acc: 0.8639, val loss: 0.2068, val acc: 0.9460\n",
            "Epoch 8/10:...........\n",
            "\tloss: 0.4271, acc: 0.8671, val loss: 0.2189, val acc: 0.9429\n",
            "Epoch 9/10:...........\n",
            "\tloss: 0.4254, acc: 0.8684, val loss: 0.1953, val acc: 0.9453\n",
            "Epoch 10/10:...........\n",
            "\tloss: 0.4280, acc: 0.8677, val loss: 0.1773, val acc: 0.9438\n"
          ]
        }
      ],
      "source": [
        "# Train the model for 10 epochs, iterating on the data in batches\n",
        "n_epochs = 10\n",
        "\n",
        "# store metrics\n",
        "training_accuracy_history = np.zeros([n_epochs, 1])\n",
        "training_loss_history = np.zeros([n_epochs, 1])\n",
        "validation_accuracy_history = np.zeros([n_epochs, 1])\n",
        "validation_loss_history = np.zeros([n_epochs, 1])\n",
        "\n",
        "for epoch in range(n_epochs):\n",
        "    print(f'Epoch {epoch+1}/10:', end='')\n",
        "    train_total = 0\n",
        "    train_correct = 0\n",
        "    # train\n",
        "    model.train()\n",
        "    for i, data in enumerate(training_data_loader):\n",
        "        images, labels = data\n",
        "        optimizer.zero_grad()\n",
        "        # forward pass\n",
        "        output = model(images)\n",
        "        # calculate categorical cross entropy loss\n",
        "        loss = criterion(output, labels)\n",
        "        # backward pass\n",
        "        loss.backward()\n",
        "        optimizer.step()\n",
        "\n",
        "        # track training accuracy\n",
        "        _, predicted = torch.max(output.data, 1)\n",
        "        train_total += labels.size(0)\n",
        "        train_correct += (predicted == labels).sum().item()\n",
        "        # track training loss\n",
        "        training_loss_history[epoch] += loss.item()\n",
        "        # progress update after 180 batches (~1/10 epoch for batch size 32)\n",
        "        if i % 180 == 0: print('.',end='')\n",
        "    training_loss_history[epoch] /= len(training_data_loader)\n",
        "    training_accuracy_history[epoch] = train_correct / train_total\n",
        "    print(f'\\n\\tloss: {training_loss_history[epoch,0]:0.4f}, acc: {training_accuracy_history[epoch,0]:0.4f}',end='')\n",
        "\n",
        "    # validate\n",
        "    test_total = 0\n",
        "    test_correct = 0\n",
        "    with torch.no_grad():\n",
        "        model.eval()\n",
        "        for i, data in enumerate(test_data_loader):\n",
        "            images, labels = data\n",
        "            # forward pass\n",
        "            output = model(images)\n",
        "            # find accuracy\n",
        "            _, predicted = torch.max(output.data, 1)\n",
        "            test_total += labels.size(0)\n",
        "            test_correct += (predicted == labels).sum().item()\n",
        "            # find loss\n",
        "            loss = criterion(output, labels)\n",
        "            validation_loss_history[epoch] += loss.item()\n",
        "        validation_loss_history[epoch] /= len(test_data_loader)\n",
        "        validation_accuracy_history[epoch] = test_correct / test_total\n",
        "    print(f', val loss: {validation_loss_history[epoch,0]:0.4f}, val acc: {validation_accuracy_history[epoch,0]:0.4f}')"
      ]
    },
    {
      "cell_type": "markdown",
      "metadata": {
        "id": "B3wOiSi7TWwQ"
      },
      "source": [
        "Above, we output the training loss/accuracy as well as the validation loss and accuracy. Not bad! Let's see if you can do better."
      ]
    },
    {
      "cell_type": "markdown",
      "source": [
        "Problem 3G"
      ],
      "metadata": {
        "id": "D0MTRdOIqBje"
      }
    },
    {
      "cell_type": "code",
      "source": [
        "#conv2d N x M subtracts (N - 1) from height and (M - 1) from width\n",
        "#MaxPool2d N divides height and width of input by N\n",
        "model = nn.Sequential(\n",
        "    nn.Conv2d(1, 8, kernel_size=(3,3)),\n",
        "    nn.ReLU(),\n",
        "    nn.MaxPool2d(2),\n",
        "    nn.Dropout(p=0.2),\n",
        "\n",
        "    nn.Conv2d(8, 8, kernel_size=(3,3)),\n",
        "    nn.ReLU(),\n",
        "    nn.MaxPool2d(2),\n",
        "    nn.Dropout(p=0.2),\n",
        "\n",
        "    nn.Flatten(),\n",
        "    nn.Linear(25*8, 64),\n",
        "    nn.ReLU(),\n",
        "    nn.Linear(64, 10)\n",
        "\n",
        ")\n",
        "\n",
        "count = 0\n",
        "for p in model.parameters():\n",
        "    n_params = np.prod(list(p.data.shape)).item()\n",
        "    count += n_params\n",
        "print(f'total params: {count}')\n",
        "\n",
        "criterion = nn.CrossEntropyLoss()\n",
        "\n",
        "optimizer = torch.optim.Adam(model.parameters(), lr=0.001, weight_decay=1e-4)"
      ],
      "metadata": {
        "colab": {
          "base_uri": "https://localhost:8080/"
        },
        "id": "Lcgf8iW4qw_v",
        "outputId": "717194ac-196b-417c-959d-050145ec93d0"
      },
      "execution_count": 26,
      "outputs": [
        {
          "output_type": "stream",
          "name": "stdout",
          "text": [
            "total params: 14178\n"
          ]
        }
      ]
    },
    {
      "cell_type": "code",
      "source": [
        "# Train the model for 10 epochs, iterating on the data in batches\n",
        "n_epochs = 10\n",
        "\n",
        "# store metrics\n",
        "training_accuracy_history = np.zeros([n_epochs, 1])\n",
        "training_loss_history = np.zeros([n_epochs, 1])\n",
        "validation_accuracy_history = np.zeros([n_epochs, 1])\n",
        "validation_loss_history = np.zeros([n_epochs, 1])\n",
        "\n",
        "for epoch in range(n_epochs):\n",
        "    print(f'Epoch {epoch+1}/10:', end='')\n",
        "    train_total = 0\n",
        "    train_correct = 0\n",
        "    # train\n",
        "    model.train()\n",
        "    for i, data in enumerate(training_data_loader):\n",
        "        images, labels = data\n",
        "        optimizer.zero_grad()\n",
        "        # forward pass\n",
        "        output = model(images)\n",
        "        # calculate categorical cross entropy loss\n",
        "        loss = criterion(output, labels)\n",
        "        # backward pass\n",
        "        loss.backward()\n",
        "        optimizer.step()\n",
        "\n",
        "        # track training accuracy\n",
        "        _, predicted = torch.max(output.data, 1)\n",
        "        train_total += labels.size(0)\n",
        "        train_correct += (predicted == labels).sum().item()\n",
        "        # track training loss\n",
        "        training_loss_history[epoch] += loss.item()\n",
        "        # progress update after 180 batches (~1/10 epoch for batch size 32)\n",
        "        if i % 180 == 0: print('.',end='')\n",
        "    training_loss_history[epoch] /= len(training_data_loader)\n",
        "    training_accuracy_history[epoch] = train_correct / train_total\n",
        "    print(f'\\n\\tloss: {training_loss_history[epoch,0]:0.4f}, acc: {training_accuracy_history[epoch,0]:0.4f}',end='')\n",
        "\n",
        "    # validate\n",
        "    test_total = 0\n",
        "    test_correct = 0\n",
        "    with torch.no_grad():\n",
        "        model.eval()\n",
        "        for i, data in enumerate(test_data_loader):\n",
        "            images, labels = data\n",
        "            # forward pass\n",
        "            output = model(images)\n",
        "            # find accuracy\n",
        "            _, predicted = torch.max(output.data, 1)\n",
        "            test_total += labels.size(0)\n",
        "            test_correct += (predicted == labels).sum().item()\n",
        "            # find loss\n",
        "            loss = criterion(output, labels)\n",
        "            validation_loss_history[epoch] += loss.item()\n",
        "        validation_loss_history[epoch] /= len(test_data_loader)\n",
        "        validation_accuracy_history[epoch] = test_correct / test_total\n",
        "    print(f', val loss: {validation_loss_history[epoch,0]:0.4f}, val acc: {validation_accuracy_history[epoch,0]:0.4f}')"
      ],
      "metadata": {
        "colab": {
          "base_uri": "https://localhost:8080/"
        },
        "id": "AZGLAV9HqD-Z",
        "outputId": "7617583c-4a8a-42eb-8a98-77c1b45c5b59"
      },
      "execution_count": 29,
      "outputs": [
        {
          "output_type": "stream",
          "name": "stdout",
          "text": [
            "Epoch 1/10:...........\n",
            "\tloss: 0.1696, acc: 0.9474, val loss: 0.0833, val acc: 0.9751\n",
            "Epoch 2/10:...........\n",
            "\tloss: 0.1338, acc: 0.9574, val loss: 0.0594, val acc: 0.9816\n",
            "Epoch 3/10:...........\n",
            "\tloss: 0.1149, acc: 0.9639, val loss: 0.0551, val acc: 0.9819\n",
            "Epoch 4/10:...........\n",
            "\tloss: 0.1039, acc: 0.9665, val loss: 0.0532, val acc: 0.9828\n",
            "Epoch 5/10:...........\n",
            "\tloss: 0.0958, acc: 0.9695, val loss: 0.0479, val acc: 0.9845\n",
            "Epoch 6/10:...........\n",
            "\tloss: 0.0879, acc: 0.9716, val loss: 0.0432, val acc: 0.9849\n",
            "Epoch 7/10:...........\n",
            "\tloss: 0.0836, acc: 0.9730, val loss: 0.0405, val acc: 0.9861\n",
            "Epoch 8/10:...........\n",
            "\tloss: 0.0809, acc: 0.9747, val loss: 0.0400, val acc: 0.9876\n",
            "Epoch 9/10:...........\n",
            "\tloss: 0.0774, acc: 0.9750, val loss: 0.0399, val acc: 0.9869\n",
            "Epoch 10/10:...........\n",
            "\tloss: 0.0751, acc: 0.9759, val loss: 0.0386, val acc: 0.9873\n"
          ]
        }
      ]
    },
    {
      "cell_type": "code",
      "source": [
        "p = np.linspace(0, 1, 10)\n",
        "#print(p)\n",
        "for val in p:\n",
        "  model = nn.Sequential(\n",
        "      nn.Conv2d(1, 8, kernel_size=(3,3)),\n",
        "      nn.ReLU(),\n",
        "      nn.MaxPool2d(2),\n",
        "      nn.Dropout(p=val),\n",
        "\n",
        "      nn.Conv2d(8, 8, kernel_size=(3,3)),\n",
        "      nn.ReLU(),\n",
        "      nn.MaxPool2d(2),\n",
        "      nn.Dropout(p=val),\n",
        "\n",
        "      nn.Flatten(),\n",
        "      nn.Linear(25*8, 64),\n",
        "      nn.ReLU(),\n",
        "      nn.Linear(64, 10)\n",
        "  )\n",
        "\n",
        "  n_epochs = 1\n",
        "  criterion = nn.CrossEntropyLoss()\n",
        "\n",
        "  optimizer = torch.optim.Adam(model.parameters(), lr=0.001, weight_decay=1e-4)\n",
        "\n",
        "  # store metrics\n",
        "  training_accuracy_history = np.zeros([n_epochs, 1])\n",
        "  training_loss_history = np.zeros([n_epochs, 1])\n",
        "  validation_accuracy_history = np.zeros([n_epochs, 1])\n",
        "  validation_loss_history = np.zeros([n_epochs, 1])\n",
        "\n",
        "  for epoch in range(n_epochs):\n",
        "      print(f'p = {val}', end='')\n",
        "      train_total = 0\n",
        "      train_correct = 0\n",
        "      # train\n",
        "      model.train()\n",
        "      for i, data in enumerate(training_data_loader):\n",
        "          images, labels = data\n",
        "          optimizer.zero_grad()\n",
        "          # forward pass\n",
        "          output = model(images)\n",
        "          # calculate categorical cross entropy loss\n",
        "          loss = criterion(output, labels)\n",
        "          # backward pass\n",
        "          loss.backward()\n",
        "          optimizer.step()\n",
        "\n",
        "          # track training accuracy\n",
        "          _, predicted = torch.max(output.data, 1)\n",
        "          train_total += labels.size(0)\n",
        "          train_correct += (predicted == labels).sum().item()\n",
        "          # track training loss\n",
        "          training_loss_history[epoch] += loss.item()\n",
        "          # progress update after 180 batches (~1/10 epoch for batch size 32)\n",
        "          if i % 180 == 0: print('.',end='')\n",
        "      training_loss_history[epoch] /= len(training_data_loader)\n",
        "      training_accuracy_history[epoch] = train_correct / train_total\n",
        "      print(f'\\n\\tloss: {training_loss_history[epoch,0]:0.4f}, acc: {training_accuracy_history[epoch,0]:0.4f}',end='')\n",
        "\n",
        "      # validate\n",
        "      test_total = 0\n",
        "      test_correct = 0\n",
        "      with torch.no_grad():\n",
        "          model.eval()\n",
        "          for i, data in enumerate(test_data_loader):\n",
        "              images, labels = data\n",
        "              # forward pass\n",
        "              output = model(images)\n",
        "              # find accuracy\n",
        "              _, predicted = torch.max(output.data, 1)\n",
        "              test_total += labels.size(0)\n",
        "              test_correct += (predicted == labels).sum().item()\n",
        "              # find loss\n",
        "              loss = criterion(output, labels)\n",
        "              validation_loss_history[epoch] += loss.item()\n",
        "          validation_loss_history[epoch] /= len(test_data_loader)\n",
        "          validation_accuracy_history[epoch] = test_correct / test_total\n",
        "      print(f', val loss: {validation_loss_history[epoch,0]:0.4f}, val acc: {validation_accuracy_history[epoch,0]:0.4f}')"
      ],
      "metadata": {
        "colab": {
          "base_uri": "https://localhost:8080/"
        },
        "id": "C_krbUUnL-zz",
        "outputId": "f315cbdf-d5b8-4c4a-b1a0-6deb6682e3f3"
      },
      "execution_count": 34,
      "outputs": [
        {
          "output_type": "stream",
          "name": "stdout",
          "text": [
            "p = 0.0...........\n",
            "\tloss: 0.2908, acc: 0.9116, val loss: 0.0881, val acc: 0.9715\n",
            "p = 0.1111111111111111...........\n",
            "\tloss: 0.3356, acc: 0.8960, val loss: 0.0946, val acc: 0.9696\n",
            "p = 0.2222222222222222...........\n",
            "\tloss: 0.3948, acc: 0.8735, val loss: 0.1261, val acc: 0.9600\n",
            "p = 0.3333333333333333...........\n",
            "\tloss: 0.4698, acc: 0.8493, val loss: 0.1281, val acc: 0.9640\n",
            "p = 0.4444444444444444...........\n",
            "\tloss: 0.6128, acc: 0.7993, val loss: 0.1659, val acc: 0.9558\n",
            "p = 0.5555555555555556...........\n",
            "\tloss: 0.7298, acc: 0.7596, val loss: 0.2048, val acc: 0.9490\n",
            "p = 0.6666666666666666...........\n",
            "\tloss: 0.9230, acc: 0.6943, val loss: 0.2781, val acc: 0.9418\n",
            "p = 0.7777777777777777...........\n",
            "\tloss: 1.3496, acc: 0.5382, val loss: 0.6467, val acc: 0.8682\n",
            "p = 0.8888888888888888...........\n",
            "\tloss: 1.6058, acc: 0.4434, val loss: 0.7636, val acc: 0.8542\n",
            "p = 1.0...........\n",
            "\tloss: 2.3017, acc: 0.1118, val loss: 2.3011, val acc: 0.1135\n"
          ]
        }
      ]
    }
  ],
  "metadata": {
    "anaconda-cloud": {},
    "kernelspec": {
      "display_name": "Python 3",
      "language": "python",
      "name": "python3"
    },
    "language_info": {
      "codemirror_mode": {
        "name": "ipython",
        "version": 3
      },
      "file_extension": ".py",
      "mimetype": "text/x-python",
      "name": "python",
      "nbconvert_exporter": "python",
      "pygments_lexer": "ipython3",
      "version": "3.6.3"
    },
    "colab": {
      "provenance": []
    }
  },
  "nbformat": 4,
  "nbformat_minor": 0
}